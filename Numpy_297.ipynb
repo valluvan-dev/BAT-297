{
 "cells": [
  {
   "cell_type": "code",
   "execution_count": 1,
   "id": "b1425e6a-612a-4a40-82d7-f9b7bd245da5",
   "metadata": {},
   "outputs": [
    {
     "name": "stdout",
     "output_type": "stream",
     "text": [
      "Requirement already satisfied: numpy in c:\\users\\dell\\anaconda3\\lib\\site-packages (1.26.4)Note: you may need to restart the kernel to use updated packages.\n",
      "\n"
     ]
    }
   ],
   "source": [
    "pip install numpy\n"
   ]
  },
  {
   "cell_type": "code",
   "execution_count": 2,
   "id": "a59ca174-fa9b-4089-ac68-2e9c3b5516d0",
   "metadata": {},
   "outputs": [],
   "source": [
    "import numpy as np"
   ]
  },
  {
   "cell_type": "code",
   "execution_count": 6,
   "id": "5d5fd5cb-f0ca-41b2-916f-aca8b20692ec",
   "metadata": {},
   "outputs": [
    {
     "name": "stdout",
     "output_type": "stream",
     "text": [
      "[30 40 60]\n"
     ]
    },
    {
     "data": {
      "text/plain": [
       "numpy.ndarray"
      ]
     },
     "execution_count": 6,
     "metadata": {},
     "output_type": "execute_result"
    }
   ],
   "source": [
    "arr = np.array([30,40,60])\n",
    "print(arr)\n",
    "type(arr)"
   ]
  },
  {
   "cell_type": "code",
   "execution_count": 5,
   "id": "18966ce4-1ccf-430a-879f-b3320254b0b5",
   "metadata": {},
   "outputs": [
    {
     "name": "stdout",
     "output_type": "stream",
     "text": [
      "[10, 20, 30, 40]\n",
      "<class 'list'>\n"
     ]
    }
   ],
   "source": [
    "list1 = [10,20,30,40]\n",
    "print(list1)\n",
    "print(type(list1))"
   ]
  },
  {
   "cell_type": "markdown",
   "id": "0bf7398e-dbb6-42c9-957e-53f066410692",
   "metadata": {},
   "source": [
    "# Types of Array :\n",
    "\n",
    "## One Dimensional Array :\n"
   ]
  },
  {
   "cell_type": "code",
   "execution_count": 9,
   "id": "0580ed68-358f-419d-a38e-44716dd19297",
   "metadata": {},
   "outputs": [
    {
     "name": "stdout",
     "output_type": "stream",
     "text": [
      "[10 20 30]\n"
     ]
    }
   ],
   "source": [
    "arr = np.array([10,20,30])\n",
    "print(arr)"
   ]
  },
  {
   "cell_type": "code",
   "execution_count": 8,
   "id": "16aa948c-a36c-47b6-900c-499aad661941",
   "metadata": {},
   "outputs": [
    {
     "data": {
      "text/plain": [
       "1"
      ]
     },
     "execution_count": 8,
     "metadata": {},
     "output_type": "execute_result"
    }
   ],
   "source": [
    "arr.ndim"
   ]
  },
  {
   "cell_type": "markdown",
   "id": "d049a4e6-c170-49f5-aa24-9fcc8c08aeeb",
   "metadata": {},
   "source": [
    "## Two Dimensional Array :"
   ]
  },
  {
   "cell_type": "code",
   "execution_count": 10,
   "id": "8913fd15-a916-4e1e-b9d9-b768367b6a35",
   "metadata": {},
   "outputs": [
    {
     "data": {
      "text/plain": [
       "array([[10, 20, 30],\n",
       "       [40, 50, 60]])"
      ]
     },
     "execution_count": 10,
     "metadata": {},
     "output_type": "execute_result"
    }
   ],
   "source": [
    "arr = np.array([[10,20,30],[40,50,60]])\n",
    "arr"
   ]
  },
  {
   "cell_type": "code",
   "execution_count": 11,
   "id": "5aaa8f85-78cb-4dd0-b757-0a09a20cd637",
   "metadata": {},
   "outputs": [
    {
     "data": {
      "text/plain": [
       "2"
      ]
     },
     "execution_count": 11,
     "metadata": {},
     "output_type": "execute_result"
    }
   ],
   "source": [
    "arr.ndim"
   ]
  },
  {
   "cell_type": "markdown",
   "id": "f4a76aca-63e7-4f90-afeb-ee62d792ae56",
   "metadata": {},
   "source": [
    "## Three Dimensional Array :"
   ]
  },
  {
   "cell_type": "code",
   "execution_count": 14,
   "id": "701f1bc5-0ac8-40d1-be38-ddf679fb1800",
   "metadata": {},
   "outputs": [
    {
     "data": {
      "text/plain": [
       "array([[[10, 20],\n",
       "        [30, 40]],\n",
       "\n",
       "       [[50, 60],\n",
       "        [70, 80]]])"
      ]
     },
     "execution_count": 14,
     "metadata": {},
     "output_type": "execute_result"
    }
   ],
   "source": [
    "arr = np.array([[[10,20],[30,40]],[[50,60],[70,80]]])\n",
    "arr"
   ]
  },
  {
   "cell_type": "code",
   "execution_count": 15,
   "id": "c2af7542-9def-423d-b397-5141c10d9db1",
   "metadata": {},
   "outputs": [
    {
     "data": {
      "text/plain": [
       "3"
      ]
     },
     "execution_count": 15,
     "metadata": {},
     "output_type": "execute_result"
    }
   ],
   "source": [
    "arr.ndim"
   ]
  },
  {
   "cell_type": "markdown",
   "id": "8dbe125d-3b8f-4c85-a69d-558ebdf41ad8",
   "metadata": {},
   "source": [
    "## Basic Operations :\n",
    "\n",
    "    ndim\n",
    "    dtype\n",
    "    size\n",
    "    shape"
   ]
  },
  {
   "cell_type": "code",
   "execution_count": 16,
   "id": "71a42346-615a-45ca-8fac-90e81bd0505e",
   "metadata": {},
   "outputs": [
    {
     "name": "stdout",
     "output_type": "stream",
     "text": [
      "a dtype :  int32\n",
      "b dtype :  float64\n",
      "c dtype :  <U6\n"
     ]
    }
   ],
   "source": [
    "# Dtype :\n",
    "a = np.array([1,2,3])\n",
    "b = np.array([4.2,5.8,9.4])\n",
    "c = np.array(['arun','meena','arvind'])\n",
    "\n",
    "print(\"a dtype : \",a.dtype)\n",
    "print(\"b dtype : \",b.dtype)\n",
    "print(\"c dtype : \",c.dtype)"
   ]
  },
  {
   "cell_type": "code",
   "execution_count": 20,
   "id": "50b4c39d-fdc1-4a18-9450-6d242337d920",
   "metadata": {},
   "outputs": [
    {
     "name": "stdout",
     "output_type": "stream",
     "text": [
      "Size of X :  6\n"
     ]
    }
   ],
   "source": [
    "# Size :\n",
    "\n",
    "x = np.array([[\"apple\",\"orange\"],[\"Mango\",\"Papaya\"],[\"banana\",\"cherry\"]])\n",
    "print(\"Size of X : \",x.size)"
   ]
  },
  {
   "cell_type": "code",
   "execution_count": 24,
   "id": "3611b475-7f47-4dab-8ef0-fd5494433992",
   "metadata": {},
   "outputs": [
    {
     "name": "stdout",
     "output_type": "stream",
     "text": [
      "[[1 2 3]\n",
      " [7 8 9]\n",
      " [4 5 6]]\n",
      "Shape of a :  (3, 3)\n"
     ]
    }
   ],
   "source": [
    "# Shape :\n",
    "\n",
    "a = np.array([[1,2,3],[7,8,9],[4,5,6]])\n",
    "print(a)\n",
    "print(\"Shape of a : \",a.shape)"
   ]
  },
  {
   "cell_type": "markdown",
   "id": "148297ac-ea2b-4799-9977-d836ef594fbf",
   "metadata": {},
   "source": [
    "## Creating Arrays :\n"
   ]
  },
  {
   "cell_type": "code",
   "execution_count": 1,
   "id": "dd2e299f-fa7a-44a2-a305-b19481fed07d",
   "metadata": {},
   "outputs": [],
   "source": [
    "import numpy as np"
   ]
  },
  {
   "cell_type": "code",
   "execution_count": 4,
   "id": "82b24ac6-8b4c-42fe-841d-7ee159b73ede",
   "metadata": {},
   "outputs": [
    {
     "data": {
      "text/plain": [
       "array([30])"
      ]
     },
     "execution_count": 4,
     "metadata": {},
     "output_type": "execute_result"
    }
   ],
   "source": [
    "arr = np.array([30])\n",
    "arr"
   ]
  },
  {
   "cell_type": "code",
   "execution_count": 5,
   "id": "8bb21e7d-dbab-45c3-b3f1-7324319875eb",
   "metadata": {},
   "outputs": [
    {
     "data": {
      "text/plain": [
       "1"
      ]
     },
     "execution_count": 5,
     "metadata": {},
     "output_type": "execute_result"
    }
   ],
   "source": [
    "arr.ndim"
   ]
  },
  {
   "cell_type": "markdown",
   "id": "c7669998-1eb9-4ee4-8215-31d152ae7fd9",
   "metadata": {},
   "source": [
    "## Multi or Higher Dimensional Array \n",
    "\n",
    "**ndmin** - *minimmum number of dimensions*\n",
    "\n",
    "it is an argument we pass in *np.array()* function to force the array have a minimum number of dimensions,even if the original data is smaller\n",
    "it won't **reduce** exisiting dimensions if you pass already a higher dimensional array."
   ]
  },
  {
   "cell_type": "code",
   "execution_count": 6,
   "id": "62da1981-f654-4bd0-ad3b-0a5a2fdc183d",
   "metadata": {},
   "outputs": [
    {
     "data": {
      "text/plain": [
       "array([[[[[20, 30, 40]]]]])"
      ]
     },
     "execution_count": 6,
     "metadata": {},
     "output_type": "execute_result"
    }
   ],
   "source": [
    "arr = np.array([20,30,40],ndmin = 5)\n",
    "arr"
   ]
  },
  {
   "cell_type": "code",
   "execution_count": 7,
   "id": "c4d49602-6e86-4801-a0d1-566897f2003b",
   "metadata": {},
   "outputs": [
    {
     "data": {
      "text/plain": [
       "5"
      ]
     },
     "execution_count": 7,
     "metadata": {},
     "output_type": "execute_result"
    }
   ],
   "source": [
    "arr.ndim"
   ]
  },
  {
   "cell_type": "markdown",
   "id": "baaa577d-ab09-418d-b515-79c434265750",
   "metadata": {},
   "source": [
    "## Array Indexing :\n",
    "\n",
    "### One Dimensional Array :\n",
    "\n",
    "    # syntax :-> array[index]"
   ]
  },
  {
   "cell_type": "code",
   "execution_count": 14,
   "id": "eb5fdf76-82ed-48c8-ab46-df9b30d540f6",
   "metadata": {},
   "outputs": [
    {
     "data": {
      "text/plain": [
       "array(['apple', 'orange', 'mango'], dtype='<U6')"
      ]
     },
     "execution_count": 14,
     "metadata": {},
     "output_type": "execute_result"
    }
   ],
   "source": [
    "arr = np.array(['apple','orange','mango','banana'])\n",
    "arr[-4:-1]"
   ]
  },
  {
   "cell_type": "code",
   "execution_count": 15,
   "id": "f0b0162e-1e00-4f96-9199-34e152cf0def",
   "metadata": {},
   "outputs": [
    {
     "data": {
      "text/plain": [
       "'applebanana'"
      ]
     },
     "execution_count": 15,
     "metadata": {},
     "output_type": "execute_result"
    }
   ],
   "source": [
    "arr[0] + arr[-1]"
   ]
  },
  {
   "cell_type": "markdown",
   "id": "75d36699-7714-4b23-9c26-34885dbafd1c",
   "metadata": {},
   "source": [
    "## Two Dimensional Array :"
   ]
  },
  {
   "cell_type": "code",
   "execution_count": 16,
   "id": "9cfad3e3-3881-42bf-9289-4fcc05747d1b",
   "metadata": {},
   "outputs": [
    {
     "data": {
      "text/plain": [
       "array([[10, 20, 30, 40],\n",
       "       [50, 60, 70, 80]])"
      ]
     },
     "execution_count": 16,
     "metadata": {},
     "output_type": "execute_result"
    }
   ],
   "source": [
    "# Two Dimensional Array :\n",
    "\n",
    "\"\"\"\n",
    "Syntax :\n",
    "    array[row_index,column_index]\n",
    "\"\"\"\n",
    "\n",
    "arr = np.array([[10,20,30,40],[50,60,70,80]])\n",
    "arr"
   ]
  },
  {
   "cell_type": "code",
   "execution_count": 19,
   "id": "60c3d6f7-e89e-482c-8b89-bea22e27256d",
   "metadata": {},
   "outputs": [
    {
     "data": {
      "text/plain": [
       "80"
      ]
     },
     "execution_count": 19,
     "metadata": {},
     "output_type": "execute_result"
    }
   ],
   "source": [
    "arr[1,3]"
   ]
  },
  {
   "cell_type": "code",
   "execution_count": 22,
   "id": "6ced5d12-5a09-40ef-93ac-5474ec7553b1",
   "metadata": {},
   "outputs": [
    {
     "data": {
      "text/plain": [
       "array([[20, 30],\n",
       "       [60, 70]])"
      ]
     },
     "execution_count": 22,
     "metadata": {},
     "output_type": "execute_result"
    }
   ],
   "source": [
    "arr[:,1:3]"
   ]
  },
  {
   "cell_type": "markdown",
   "id": "54504746-3312-4dd8-8d36-f6b920f76411",
   "metadata": {},
   "source": [
    "## Thre Dimensional Array :"
   ]
  },
  {
   "cell_type": "code",
   "execution_count": 23,
   "id": "17734f46-72a8-4e36-929e-c7ba95c4c070",
   "metadata": {},
   "outputs": [
    {
     "name": "stdout",
     "output_type": "stream",
     "text": [
      "[[[10 20]\n",
      "  [30 40]]\n",
      "\n",
      " [[50 60]\n",
      "  [70 80]]]\n"
     ]
    }
   ],
   "source": [
    "# Three Dimensional Array :\n",
    "\"\"\"\n",
    "array[layer,row,column]\n",
    "\"\"\"\n",
    "\n",
    "arr = np.array([[[10,20],[30,40]],[[50,60],[70,80]]])\n",
    "\n",
    "print(arr)"
   ]
  },
  {
   "cell_type": "code",
   "execution_count": 27,
   "id": "c39251c0-7c31-4a4f-830d-ee01dd42bd8f",
   "metadata": {},
   "outputs": [
    {
     "data": {
      "text/plain": [
       "60"
      ]
     },
     "execution_count": 27,
     "metadata": {},
     "output_type": "execute_result"
    }
   ],
   "source": [
    "arr[1,0,1]"
   ]
  },
  {
   "cell_type": "code",
   "execution_count": 29,
   "id": "f4b17849-3ca8-4046-b0c7-f6b091b1a0bc",
   "metadata": {},
   "outputs": [
    {
     "data": {
      "text/plain": [
       "array([[30, 40],\n",
       "       [70, 80]])"
      ]
     },
     "execution_count": 29,
     "metadata": {},
     "output_type": "execute_result"
    }
   ],
   "source": [
    "arr[:,1,:]"
   ]
  },
  {
   "cell_type": "markdown",
   "id": "d5b408aa-6352-4e77-a47d-c5147c63302b",
   "metadata": {},
   "source": [
    "## Negative Indexing :"
   ]
  },
  {
   "cell_type": "code",
   "execution_count": 30,
   "id": "9cd5e8dd-eb47-422a-9da4-8d814326be3d",
   "metadata": {},
   "outputs": [
    {
     "name": "stdout",
     "output_type": "stream",
     "text": [
      "Last element :  50\n",
      "second Last element :  40\n"
     ]
    }
   ],
   "source": [
    "# One Dimensional Array :\n",
    "\n",
    "arr = np.array([10,20,30,40,50])\n",
    "\n",
    "print(\"Last element : \",arr[-1])\n",
    "print(\"second Last element : \",arr[-2])"
   ]
  },
  {
   "cell_type": "code",
   "execution_count": 32,
   "id": "339224be-2328-4d10-9200-b1cc800fcd8d",
   "metadata": {},
   "outputs": [
    {
     "data": {
      "text/plain": [
       "array([[10, 20, 30],\n",
       "       [40, 50, 60]])"
      ]
     },
     "execution_count": 32,
     "metadata": {},
     "output_type": "execute_result"
    }
   ],
   "source": [
    "# Two Dimensional Array :\n",
    "\n",
    "arr = np.array([[10,20,30],[40,50,60]])\n",
    "arr\n",
    "# print(\"Last Row : \",arr[-1])\n",
    "# print(\"Last Element of Last Row : \",arr[-1][-1])\n",
    "# print(\"Last column first row : \",arr[-2][-1])"
   ]
  },
  {
   "cell_type": "code",
   "execution_count": 35,
   "id": "f37f07a8-ff11-4c73-bcdc-6221f2bc6043",
   "metadata": {},
   "outputs": [
    {
     "data": {
      "text/plain": [
       "array([50, 60])"
      ]
     },
     "execution_count": 35,
     "metadata": {},
     "output_type": "execute_result"
    }
   ],
   "source": [
    "arr[-1,-2:]"
   ]
  },
  {
   "cell_type": "markdown",
   "id": "f07e332d-82e5-4387-a355-2978dec7c292",
   "metadata": {},
   "source": [
    "# Array Slicing :\n",
    "\n",
    "**syntax :**\n",
    "\n",
    "    array[start,end,step]\n"
   ]
  },
  {
   "cell_type": "code",
   "execution_count": 36,
   "id": "5abc2770-b12a-4ba5-be78-bd5ef07edeea",
   "metadata": {},
   "outputs": [
    {
     "name": "stdout",
     "output_type": "stream",
     "text": [
      "[10 20 30]\n",
      "[10 20 30 40 50]\n",
      "[30 40 50 60]\n",
      "[10 30 50]\n"
     ]
    }
   ],
   "source": [
    "# Positive Index\n",
    "arr = np.array([10,20,30,40,50,60])\n",
    "print(arr[0:3])\n",
    "print(arr[:5])\n",
    "print(arr[2:])\n",
    "print(arr[::2])\n"
   ]
  },
  {
   "cell_type": "code",
   "execution_count": 37,
   "id": "22ba1358-1a65-4e25-bb71-21e207f7d751",
   "metadata": {},
   "outputs": [
    {
     "name": "stdout",
     "output_type": "stream",
     "text": [
      "[30 40 50]\n",
      "[40 50 60]\n",
      "[10 20 30]\n",
      "[60 50 40 30 20 10]\n"
     ]
    }
   ],
   "source": [
    "# Negative Index :\n",
    "\n",
    "arr = np.array([10,20,30,40,50,60])\n",
    "\n",
    "# [30 40 50]\n",
    "# [40 50 60]\n",
    "# [10 20 30]\n",
    "# full reverse\n",
    "\n",
    "print(arr[-4:-1])\n",
    "print(arr[-3:])\n",
    "print(arr[:-3])\n",
    "\n",
    "print(arr[::-1])"
   ]
  },
  {
   "cell_type": "code",
   "execution_count": 38,
   "id": "87f66d3c-a419-4791-bac7-351a2613086c",
   "metadata": {},
   "outputs": [
    {
     "name": "stdout",
     "output_type": "stream",
     "text": [
      "[[1 2 3]\n",
      " [4 5 6]\n",
      " [7 8 9]]\n"
     ]
    }
   ],
   "source": [
    "# Two Dimensional :\n",
    "\n",
    "# arr[row_index, column_index]\n",
    "\n",
    "arr = np.array([[1,2,3],\n",
    "       [4,5,6],\n",
    "       [7,8,9]])\n",
    "print(arr)\n",
    "       "
   ]
  },
  {
   "cell_type": "code",
   "execution_count": 39,
   "id": "0927066d-af64-453d-8c7f-c2ef1c7473ea",
   "metadata": {},
   "outputs": [
    {
     "name": "stdout",
     "output_type": "stream",
     "text": [
      "[[2 3]\n",
      " [5 6]]\n",
      "[1 4 7]\n",
      "[4 5 6]\n"
     ]
    }
   ],
   "source": [
    "arr = np.array([\n",
    "       [1,2,3],\n",
    "       [4,5,6],\n",
    "       [7,8,9]])\n",
    "\n",
    "# [[2 3],[5 6]]\n",
    "# [1,4,7]\n",
    "# [4,5,6]\n",
    "\n",
    "print(arr[0:2, 1:])\n",
    "\n",
    "print(arr[0: ,0])\n",
    "\n",
    "print(arr[1, 0:])"
   ]
  },
  {
   "cell_type": "code",
   "execution_count": 40,
   "id": "1572513c-4084-40e4-a22d-2bcc5b9839f6",
   "metadata": {},
   "outputs": [
    {
     "name": "stdout",
     "output_type": "stream",
     "text": [
      "[[5 6]\n",
      " [8 9]]\n",
      "[3 6 9]\n",
      "[7 8 9]\n"
     ]
    }
   ],
   "source": [
    "# 2D Negative Inedx :\n",
    "\n",
    "arr = np.array([\n",
    "       [1,2,3],\n",
    "       [4,5,6],\n",
    "       [7,8,9]])\n",
    "\n",
    "# [[5,6],[8,9]]\n",
    "# [3,6,9]\n",
    "# [7,8,9]\n",
    "\n",
    "print(arr[-2: ,-2:])\n",
    "\n",
    "print(arr[:,-1])\n",
    "\n",
    "print(arr[-1 , :])"
   ]
  },
  {
   "cell_type": "markdown",
   "id": "6f94c550-d611-49ab-879d-bb6802c859ad",
   "metadata": {},
   "source": [
    "# Data types in Numpy :\n",
    "\n",
    "Integer - **i**  - Signed integer\n",
    "\n",
    "Unsinged Integer - **u** - only positive integers\n",
    "\n",
    "float  - **f**  - Decimal numbers\n",
    "\n",
    "complex float - **c**  - complex numbers\n",
    "\n",
    "boolean -  **b** - True or False\n",
    "\n",
    "string  - **S** - ASCII string\n",
    "\n",
    "unicode string  - **U** - international text\n",
    "\n",
    "object  - **O**  - Python objects\n",
    "\n",
    "datetime - **M**  - date & time \n",
    "\n",
    "timedelta - **m** - Time duration(diff between two dates)\n",
    "\n",
    "void   -  **V** - Raw memory block\n"
   ]
  },
  {
   "cell_type": "code",
   "execution_count": 41,
   "id": "75adb068-f1df-4162-9851-20391940e511",
   "metadata": {},
   "outputs": [
    {
     "name": "stdout",
     "output_type": "stream",
     "text": [
      "[1]\n",
      "[1.+2.j]\n",
      "[4.567]\n",
      "['வணக்கம்']\n"
     ]
    }
   ],
   "source": [
    "print(np.array([1],dtype='i4'))\n",
    "print(np.array([1+2j], dtype='c8'))\n",
    "print(np.array([4.567],dtype = 'f4'))\n",
    "print(np.array([\"வணக்கம்\"],dtype = 'U8'))\n"
   ]
  },
  {
   "cell_type": "markdown",
   "id": "d5aca4b0-3ba2-4cab-b561-e4035228f0bc",
   "metadata": {},
   "source": [
    "## How to check dtype Character :"
   ]
  },
  {
   "cell_type": "code",
   "execution_count": 42,
   "id": "c9fbd67c-0477-4112-8f61-81d5f01532ad",
   "metadata": {},
   "outputs": [
    {
     "name": "stdout",
     "output_type": "stream",
     "text": [
      "<U3\n"
     ]
    }
   ],
   "source": [
    "arr = np.array([\"3.7\"])\n",
    "\n",
    "print(arr.dtype)"
   ]
  },
  {
   "cell_type": "code",
   "execution_count": 43,
   "id": "b20c792d-3778-45ad-9b3b-1e87ecdd5d64",
   "metadata": {},
   "outputs": [
    {
     "data": {
      "text/plain": [
       "'U'"
      ]
     },
     "execution_count": 43,
     "metadata": {},
     "output_type": "execute_result"
    }
   ],
   "source": [
    "arr.dtype.char"
   ]
  },
  {
   "cell_type": "markdown",
   "id": "a81d664a-277c-48e0-b883-bbe573e0ef1e",
   "metadata": {},
   "source": [
    "# View & Copy :\n",
    "\n",
    "### View :\n",
    "\n",
    "- a **view** is just another way of looking at the same data\n",
    "- it does not create a new copy of the array in memory.\n",
    "\n",
    "**Syntax :**\n",
    "\n",
    "view_array = original_array.view()\n",
    "\n",
    "### Copy :\n",
    "\n",
    "- a **copy** is a new array created from the original.\n",
    "- Changing the copy won't affect the original array.\n",
    "\n",
    "**Syntax :**\n",
    "\n",
    "copy_array = original_array.copy()\n",
    "    "
   ]
  },
  {
   "cell_type": "code",
   "execution_count": 44,
   "id": "32bd3552-771f-4638-bd56-4b84a124c9a4",
   "metadata": {},
   "outputs": [
    {
     "data": {
      "text/plain": [
       "array([10, 20, 30])"
      ]
     },
     "execution_count": 44,
     "metadata": {},
     "output_type": "execute_result"
    }
   ],
   "source": [
    "# View :\n",
    "\n",
    "arr = np.array([10,20,30])\n",
    "\n",
    "arr"
   ]
  },
  {
   "cell_type": "code",
   "execution_count": 46,
   "id": "4b13f333-677a-4645-996e-2f3621a25036",
   "metadata": {},
   "outputs": [
    {
     "data": {
      "text/plain": [
       "10"
      ]
     },
     "execution_count": 46,
     "metadata": {},
     "output_type": "execute_result"
    }
   ],
   "source": [
    "v = arr.view()\n",
    "\n",
    "v[0]"
   ]
  },
  {
   "cell_type": "code",
   "execution_count": 49,
   "id": "3dfb4a4d-8264-4504-aaba-60c604418907",
   "metadata": {},
   "outputs": [
    {
     "name": "stdout",
     "output_type": "stream",
     "text": [
      "array [999 199  30]\n",
      "view [999 199  30]\n"
     ]
    }
   ],
   "source": [
    "v[0] = 999\n",
    "arr[1] = 199\n",
    "\n",
    "print(\"array\",arr)\n",
    "print(\"view\",v)"
   ]
  },
  {
   "cell_type": "code",
   "execution_count": 51,
   "id": "1ca5e77b-5702-4630-a36f-c2dd7ef32361",
   "metadata": {},
   "outputs": [
    {
     "name": "stdout",
     "output_type": "stream",
     "text": [
      "['apple' 'orange' 'mango']\n",
      "['Lion' 'orange' 'mango']\n"
     ]
    }
   ],
   "source": [
    "# Copy :\n",
    "\n",
    "arr = np.array([\"apple\",\"orange\",\"mango\"])\n",
    "\n",
    "c = arr.copy()\n",
    "\n",
    "c[0] = \"Lion\"\n",
    "\n",
    "print(arr)\n",
    "print(c)"
   ]
  },
  {
   "cell_type": "code",
   "execution_count": 52,
   "id": "c6c98361-e122-4255-89f6-1fc7e6256108",
   "metadata": {},
   "outputs": [
    {
     "data": {
      "text/plain": [
       "array([10, 20, 30, 40])"
      ]
     },
     "execution_count": 52,
     "metadata": {},
     "output_type": "execute_result"
    }
   ],
   "source": [
    "# Default behaviour with slicing :\n",
    "\n",
    "a = np.array([10,20,30,40])\n",
    "\n",
    "b = a[1:3]\n",
    "a"
   ]
  },
  {
   "cell_type": "code",
   "execution_count": 53,
   "id": "49ca2bd5-9723-4658-a94f-a4c07019bbbf",
   "metadata": {},
   "outputs": [
    {
     "data": {
      "text/plain": [
       "array([20, 30])"
      ]
     },
     "execution_count": 53,
     "metadata": {},
     "output_type": "execute_result"
    }
   ],
   "source": [
    "b"
   ]
  },
  {
   "cell_type": "code",
   "execution_count": 57,
   "id": "84321870-58ec-4283-a9c8-7ef371a5494e",
   "metadata": {},
   "outputs": [
    {
     "data": {
      "text/plain": [
       "array([ 10, 999,  30,  40])"
      ]
     },
     "execution_count": 57,
     "metadata": {},
     "output_type": "execute_result"
    }
   ],
   "source": [
    "\n",
    "b[0] = 999\n",
    "b\n",
    "a"
   ]
  },
  {
   "cell_type": "code",
   "execution_count": 58,
   "id": "c7998680-d16e-470c-9b82-60a368d078d1",
   "metadata": {},
   "outputs": [
    {
     "data": {
      "text/plain": [
       "array([999,  30])"
      ]
     },
     "execution_count": 58,
     "metadata": {},
     "output_type": "execute_result"
    }
   ],
   "source": [
    "\n",
    "c = a[1:3].copy()\n",
    "c"
   ]
  },
  {
   "cell_type": "code",
   "execution_count": 60,
   "id": "80bd7a5d-e7af-43b1-aef9-4fd97914cd3f",
   "metadata": {},
   "outputs": [
    {
     "name": "stdout",
     "output_type": "stream",
     "text": [
      "[ 10 999  30  40]\n",
      "[99 30]\n"
     ]
    }
   ],
   "source": [
    "c[0] = 99\n",
    "\n",
    "print(a)\n",
    "# print(b)\n",
    "print(c)"
   ]
  },
  {
   "cell_type": "code",
   "execution_count": 61,
   "id": "2ee38287-8591-47f3-b15c-cee1f9237a8c",
   "metadata": {},
   "outputs": [
    {
     "name": "stdout",
     "output_type": "stream",
     "text": [
      "True\n",
      "False\n"
     ]
    }
   ],
   "source": [
    "# To Check memory is shared?\n",
    "\n",
    "print(np.shares_memory(a,b))\n",
    "\n",
    "print(np.shares_memory(a,c))\n",
    "\n",
    "# b.base is a\n",
    "# c.base is a"
   ]
  },
  {
   "cell_type": "markdown",
   "id": "2b3009c6-cb08-44b2-a271-690c985ee888",
   "metadata": {},
   "source": [
    "# Shape :\n",
    "\n",
    "**shape** is a property of a numpy array that returns a tuple representing the dimensions of the array.\n",
    "\n",
    "#### Syntax :\n",
    "\n",
    "array.shape\n",
    "\n",
    "**[rows,cols,depth]**"
   ]
  },
  {
   "cell_type": "code",
   "execution_count": 62,
   "id": "7a2d17a8-6382-4929-8993-884d59dfb533",
   "metadata": {},
   "outputs": [
    {
     "name": "stdout",
     "output_type": "stream",
     "text": [
      "(3,)\n"
     ]
    }
   ],
   "source": [
    "# Example :\n",
    "\n",
    "arr = np.array([10, 20, 30])\n",
    "print(arr.shape) \n",
    "\n",
    "# o/p --> Meaning 1D array with 3 elements"
   ]
  },
  {
   "cell_type": "code",
   "execution_count": 63,
   "id": "aa2b0ede-e164-4757-bd66-57c8cd413406",
   "metadata": {},
   "outputs": [
    {
     "data": {
      "text/plain": [
       "array([[ 1,  2,  3],\n",
       "       [20, 30, 40]])"
      ]
     },
     "execution_count": 63,
     "metadata": {},
     "output_type": "execute_result"
    }
   ],
   "source": [
    "# 2D Array :\n",
    "\n",
    "arr = np.array([[1,2,3],[20,30,40]])\n",
    "arr"
   ]
  },
  {
   "cell_type": "code",
   "execution_count": 64,
   "id": "f47ea421-ca37-4661-9145-f84f25a0eef1",
   "metadata": {},
   "outputs": [
    {
     "name": "stdout",
     "output_type": "stream",
     "text": [
      "(2, 3)\n"
     ]
    }
   ],
   "source": [
    "\n",
    "print(arr.shape) # -> 2 rows 3 columns"
   ]
  },
  {
   "cell_type": "code",
   "execution_count": 67,
   "id": "61d38c94-dcd0-4631-9e38-cc8ad576595b",
   "metadata": {},
   "outputs": [
    {
     "data": {
      "text/plain": [
       "array([[[ 10,  20],\n",
       "        [ 30,  40]],\n",
       "\n",
       "       [[ 50,  60],\n",
       "        [ 70,  80]],\n",
       "\n",
       "       [[ 90, 100],\n",
       "        [ 25,  35]]])"
      ]
     },
     "execution_count": 67,
     "metadata": {},
     "output_type": "execute_result"
    }
   ],
   "source": [
    "# 3D Array :\n",
    "\n",
    "arr = np.array([\n",
    "    [\n",
    "        [10,20],\n",
    "        [30,40]\n",
    "    ],\n",
    "    [\n",
    "        [50,60],\n",
    "        [70,80]\n",
    "    ],\n",
    "    [\n",
    "        [90,100],\n",
    "        [25,35]\n",
    "    ]\n",
    "])\n",
    "\n",
    "arr"
   ]
  },
  {
   "cell_type": "code",
   "execution_count": 69,
   "id": "21415e63-0113-4659-8e3e-e921ab14240b",
   "metadata": {},
   "outputs": [
    {
     "name": "stdout",
     "output_type": "stream",
     "text": [
      "(3, 2, 2)\n"
     ]
    }
   ],
   "source": [
    "\n",
    "print(arr.shape) # --> 3 Blocks -> each block has 2 rows * 2 cols"
   ]
  },
  {
   "cell_type": "markdown",
   "id": "c9a0bb6b-246e-48b7-ab36-8ac886eeb6c9",
   "metadata": {},
   "source": [
    "## Reshape :\n",
    "\n",
    "**reshape** is a method that changes the shape of an array without changing its data\n",
    "original data will be reorganized into a new shape \n",
    "only if total number of elements is the same\n",
    "\n",
    "#### Syntax :\n",
    "\n",
    "array.reshape(new_shape)\n",
    "\n",
    "array.reshape(rows,cols)\n",
    "\n",
    "array.reshape(-1,n) --> Auto Calculation"
   ]
  },
  {
   "cell_type": "code",
   "execution_count": 70,
   "id": "63dec643-9104-48de-9649-003113a37fde",
   "metadata": {},
   "outputs": [
    {
     "name": "stdout",
     "output_type": "stream",
     "text": [
      "[1 2 3 4 5 6]\n",
      "(6,)\n",
      "\n",
      "------------\n",
      "\n"
     ]
    }
   ],
   "source": [
    "# Example :\n",
    "\n",
    "a = np.array([1,2,3,4,5,6])\n",
    "\n",
    "print(a)\n",
    "print(a.shape)\n",
    "print(\"\\n------------\\n\")\n"
   ]
  },
  {
   "cell_type": "code",
   "execution_count": 74,
   "id": "22c162a9-3ace-4dc5-bc68-2a24ebbe2763",
   "metadata": {},
   "outputs": [
    {
     "name": "stdout",
     "output_type": "stream",
     "text": [
      "[[1]\n",
      " [2]\n",
      " [3]\n",
      " [4]\n",
      " [5]\n",
      " [6]]\n",
      "(6, 1)\n",
      "[1 2 3 4 5 6]\n",
      "True\n"
     ]
    }
   ],
   "source": [
    "\n",
    "b = a.reshape(6,1)\n",
    "print(b)\n",
    "print(b.shape)\n",
    "print(a)\n",
    "\n",
    "print(np.shares_memory(a,b))"
   ]
  },
  {
   "cell_type": "markdown",
   "id": "0c1bd2de-0ff1-41e8-b01c-ac7d22f23374",
   "metadata": {},
   "source": [
    "## -1 in reshape() :\n",
    "\n",
    "    when you use -1 inside the reshape() method, it automatically calculates the appropriate dimension size for you based on the original array size.\n",
    "\n",
    "    If you don’t know one of the values(like columns)\n",
    "\n",
    "    array.reshape(rows, -1)\n",
    "\n",
    "    NumPy will calculate the number of columns that fit."
   ]
  },
  {
   "cell_type": "code",
   "execution_count": 79,
   "id": "6a7061f0-e76c-4b09-8850-b87ba8e413c2",
   "metadata": {},
   "outputs": [
    {
     "name": "stdout",
     "output_type": "stream",
     "text": [
      "[[1 2]\n",
      " [3 4]\n",
      " [5 6]]\n"
     ]
    }
   ],
   "source": [
    "# -1 in reshape --> Auto calculation \n",
    "\n",
    "# 1D to 2D\n",
    "a = np.array([1,2,3,4,5,6])\n",
    "\n",
    "print(a.reshape(-1,2))"
   ]
  },
  {
   "cell_type": "code",
   "execution_count": 80,
   "id": "bb00753f-924f-4c1a-86b4-985b30cf2628",
   "metadata": {},
   "outputs": [
    {
     "data": {
      "text/plain": [
       "array([10, 20, 30, 40, 50, 60])"
      ]
     },
     "execution_count": 80,
     "metadata": {},
     "output_type": "execute_result"
    }
   ],
   "source": [
    "# 1D to 3D \n",
    "\n",
    "a = np.array([10,20,30,40,50,60])\n",
    "\n",
    "a\n"
   ]
  },
  {
   "cell_type": "code",
   "execution_count": 85,
   "id": "416ea20b-42a2-412a-a3be-b1ceed16b834",
   "metadata": {},
   "outputs": [
    {
     "name": "stdout",
     "output_type": "stream",
     "text": [
      "[[[10]\n",
      "  [20]\n",
      "  [30]]\n",
      "\n",
      " [[40]\n",
      "  [50]\n",
      "  [60]]]\n",
      "(2, 3, 1)\n"
     ]
    }
   ],
   "source": [
    "c = a.reshape(2,3,1) # --> 1 block 2 rows 3 columns\n",
    "\n",
    "print(c)\n",
    "print(c.shape)\n",
    "\n",
    "\n",
    "# [\n",
    "#     [\n",
    "#         [1,2,3],\n",
    "#         [4,5,6]\n",
    "\n",
    "#     ]\n",
    "# ]"
   ]
  },
  {
   "cell_type": "code",
   "execution_count": 87,
   "id": "cc5b62a1-c8cb-4ecb-9e4c-7e381578606e",
   "metadata": {},
   "outputs": [
    {
     "name": "stdout",
     "output_type": "stream",
     "text": [
      "[[[1 2 3]]\n",
      "\n",
      " [[4 5 6]]]\n",
      "(2, 1, 3)\n"
     ]
    }
   ],
   "source": [
    "# 2D to 3D\n",
    "\n",
    "a = np.array([[1,2,3],[4,5,6]])\n",
    "\n",
    "b = a.reshape(2,1,3)\n",
    "\n",
    "print(b)\n",
    "print(b.shape)"
   ]
  },
  {
   "cell_type": "code",
   "execution_count": 90,
   "id": "6efc777b-fbf1-4fa3-b004-61ea73e3569b",
   "metadata": {},
   "outputs": [
    {
     "name": "stdout",
     "output_type": "stream",
     "text": [
      "[[10 20 30 40 50 60 70 80]]\n",
      "(1, 8)\n"
     ]
    }
   ],
   "source": [
    "# 3D to 2D\n",
    "\n",
    "a = np.array([\n",
    "    [[10,20],\n",
    "     [30,40]],\n",
    "    [[50,60],\n",
    "     [70,80]]\n",
    "])\n",
    "\n",
    "\n",
    "b = a.reshape(1,8)\n",
    "print(b)\n",
    "print(b.shape)"
   ]
  },
  {
   "cell_type": "markdown",
   "id": "f5a22776-8e8c-4623-b036-b7695da03f88",
   "metadata": {},
   "source": [
    "## Concatenation :"
   ]
  },
  {
   "cell_type": "markdown",
   "id": "8ac37697-9a9e-45bf-b366-3518fc61341c",
   "metadata": {},
   "source": [
    "## Concatenation :\n",
    "\n",
    "To Combine(Join) two or more arrays along a specific axis - either row-wise or column-wise\n",
    "\n",
    "    Syntax :\n",
    "    \n",
    "    np.concatenate((arr1,arr2),axis = 0 or 1)\n",
    "    \n",
    "    axis = 0  --> join vertically(row-wise)\n",
    "    \n",
    "    axis = 1  --> join horizontally(col-wise)"
   ]
  },
  {
   "cell_type": "code",
   "execution_count": 1,
   "id": "dc2b1102-295c-464f-b912-7a1b882c74e6",
   "metadata": {},
   "outputs": [],
   "source": [
    "import numpy as np"
   ]
  },
  {
   "cell_type": "code",
   "execution_count": 2,
   "id": "0951d7fc-a8ee-49f0-a439-5aefa9350529",
   "metadata": {},
   "outputs": [
    {
     "name": "stdout",
     "output_type": "stream",
     "text": [
      "[[1, 2], [3, 4]]\n",
      "[[5, 6], [7, 8]]\n"
     ]
    }
   ],
   "source": [
    "a = [[1,2],[3,4]]\n",
    "\n",
    "b = [[5,6],[7,8]]\n",
    "\n",
    "print(a)\n",
    "print(b)\n",
    "\n"
   ]
  },
  {
   "cell_type": "code",
   "execution_count": 3,
   "id": "5f1450db-5ee6-4a0c-8595-cd9adca4ad41",
   "metadata": {},
   "outputs": [
    {
     "name": "stdout",
     "output_type": "stream",
     "text": [
      "***** Result ****** \n",
      "[[1 2]\n",
      " [3 4]\n",
      " [5 6]\n",
      " [7 8]]\n",
      "***** Another Result ****** \n",
      "[[1 2 5 6]\n",
      " [3 4 7 8]]\n"
     ]
    }
   ],
   "source": [
    "# Row increased,Columns same\n",
    "result = np.concatenate((a,b),axis = 0)\n",
    "\n",
    "# Columns increased, rows same\n",
    "another_result = np.concatenate((a,b),axis = 1)\n",
    "\n",
    "print(\"***** Result ****** \")\n",
    "print(result)\n",
    "\n",
    "\n",
    "print(\"***** Another Result ****** \")\n",
    "print(another_result)"
   ]
  },
  {
   "cell_type": "markdown",
   "id": "97347b33-91ef-4533-9122-a4dde465cbac",
   "metadata": {},
   "source": [
    "## Transpose :\n",
    "    Transposing means to swap rows and columns of the array\n",
    "\n",
    "    Synatx :\n",
    "\n",
    "        arr.T or arr.transpose()\n",
    "\n",
    "        a[row][col] -> becomes a[col][row]"
   ]
  },
  {
   "cell_type": "code",
   "execution_count": 4,
   "id": "d6e29367-4111-4b70-90bc-2c555c244028",
   "metadata": {},
   "outputs": [
    {
     "data": {
      "text/plain": [
       "array([[1, 2, 3],\n",
       "       [4, 5, 6]])"
      ]
     },
     "execution_count": 4,
     "metadata": {},
     "output_type": "execute_result"
    }
   ],
   "source": [
    "a = np.array([[1,2,3],\n",
    "              [4,5,6]])\n",
    "\n",
    "a"
   ]
  },
  {
   "cell_type": "code",
   "execution_count": 6,
   "id": "541df5b3-8a00-4730-a949-13caa0f7f1d0",
   "metadata": {},
   "outputs": [
    {
     "data": {
      "text/plain": [
       "(2, 3)"
      ]
     },
     "execution_count": 6,
     "metadata": {},
     "output_type": "execute_result"
    }
   ],
   "source": [
    "np.shape(a)"
   ]
  },
  {
   "cell_type": "code",
   "execution_count": 13,
   "id": "0c8345b0-426a-48a0-b083-9eb5a8ba4f07",
   "metadata": {},
   "outputs": [
    {
     "data": {
      "text/plain": [
       "array([[1, 4],\n",
       "       [2, 5],\n",
       "       [3, 6]])"
      ]
     },
     "execution_count": 13,
     "metadata": {},
     "output_type": "execute_result"
    }
   ],
   "source": [
    "b = a.T\n",
    "b"
   ]
  },
  {
   "cell_type": "code",
   "execution_count": 10,
   "id": "a69345a6-bad1-42c0-8fc3-30d47eb9ae2f",
   "metadata": {},
   "outputs": [
    {
     "data": {
      "text/plain": [
       "(3, 2)"
      ]
     },
     "execution_count": 10,
     "metadata": {},
     "output_type": "execute_result"
    }
   ],
   "source": [
    "np.shape(b)"
   ]
  },
  {
   "cell_type": "markdown",
   "id": "c48b8892-c9c3-4d5b-aee2-1e00ce4145f9",
   "metadata": {},
   "source": [
    "## Swapaxes :\n",
    "\n",
    "    Used to **Swap any two axes** in a multi dimensional array.\n",
    "\n",
    "    More Powerfull than transpose for 3D or Higher Dimensional arrays\n",
    "\n",
    "    Syntax :\n",
    "\n",
    "        np.swapaxes(arr,axis1,axis2)\n",
    "\n",
    "        a[block][row][col]  -> a[row][block][col]"
   ]
  },
  {
   "cell_type": "markdown",
   "id": "76ee3f47-1762-432f-89e0-359a88e2c880",
   "metadata": {},
   "source": [
    "Axis numbering 0 la start aagum\n",
    "\n",
    "    2D : \n",
    "\n",
    "        axis 0 = rows,\n",
    "        axis 1 = columns\n",
    "\n",
    "    3D : \n",
    "\n",
    "        axis 0 = first dim\n",
    "        axis 1 = second\n",
    "        axis 2 = third\n",
    "\n",
    "        example :\n",
    "\n",
    "            shape(2,3,4) \n",
    "\n",
    "            axis = 0 ,axis = 1 ,axis = 2\n",
    "\n",
    "    2D Mapping rule :\n",
    "\n",
    "        a[i,j] --> a[j,i]\n",
    "\n",
    "    3D Mapping Rule : -> (2,3,4)\n",
    "\n",
    "        swapaxes(b,0,2)\n",
    "            \n",
    "        b[i,j,k]  --> [c[k,j,i]]\n",
    "\n",
    "        print(b[1,2,3], c[3,2,1])"
   ]
  },
  {
   "cell_type": "code",
   "execution_count": 25,
   "id": "8dde344d-fe95-4aca-8afb-04a796804887",
   "metadata": {},
   "outputs": [
    {
     "data": {
      "text/plain": [
       "(2, 3, 4)"
      ]
     },
     "execution_count": 25,
     "metadata": {},
     "output_type": "execute_result"
    }
   ],
   "source": [
    "arr = [\n",
    "    [\n",
    "        [10,20,30,40],\n",
    "        [50,60,70,80],\n",
    "        [1,2,3,4]\n",
    "    ],\n",
    "    [\n",
    "        [11,22,33,44],\n",
    "        [55,66,77,88],\n",
    "        [23,13,43,53]\n",
    "    ]\n",
    "]\n",
    "\n",
    "np.shape(arr)\n"
   ]
  },
  {
   "cell_type": "code",
   "execution_count": 26,
   "id": "152f5e5d-a17c-4623-aa4a-ae6ef30f7bdf",
   "metadata": {},
   "outputs": [
    {
     "data": {
      "text/plain": [
       "[[[10, 20, 30, 40], [50, 60, 70, 80], [1, 2, 3, 4]],\n",
       " [[11, 22, 33, 44], [55, 66, 77, 88], [23, 13, 43, 53]]]"
      ]
     },
     "execution_count": 26,
     "metadata": {},
     "output_type": "execute_result"
    }
   ],
   "source": [
    "arr"
   ]
  },
  {
   "cell_type": "code",
   "execution_count": 33,
   "id": "649a9dd7-081b-46dc-92df-e63a54789c32",
   "metadata": {},
   "outputs": [
    {
     "data": {
      "text/plain": [
       "array([[[10, 20, 30, 40],\n",
       "        [11, 22, 33, 44]],\n",
       "\n",
       "       [[50, 60, 70, 80],\n",
       "        [55, 66, 77, 88]],\n",
       "\n",
       "       [[ 1,  2,  3,  4],\n",
       "        [23, 13, 43, 53]]])"
      ]
     },
     "execution_count": 33,
     "metadata": {},
     "output_type": "execute_result"
    }
   ],
   "source": [
    "swap = np.swapaxes(arr,0,-2)\n",
    "swap"
   ]
  },
  {
   "cell_type": "code",
   "execution_count": 16,
   "id": "2618aa84-6858-4c7f-943e-6dd069d73c7d",
   "metadata": {},
   "outputs": [
    {
     "name": "stdout",
     "output_type": "stream",
     "text": [
      "[[[1 2]\n",
      "  [3 4]]\n",
      "\n",
      " [[5 6]\n",
      "  [7 8]]]\n",
      "(2, 2, 2)\n"
     ]
    }
   ],
   "source": [
    "a = np.array([\n",
    "    [[1,2],[3,4]],\n",
    "    [[5,6],[7,8]]\n",
    "])\n",
    "print(a)\n",
    "print(a.shape)"
   ]
  },
  {
   "cell_type": "code",
   "execution_count": 15,
   "id": "d334ae81-16de-4c6b-884e-bad5e5dd604b",
   "metadata": {},
   "outputs": [
    {
     "name": "stdout",
     "output_type": "stream",
     "text": [
      "[[[1 2]\n",
      "  [5 6]]\n",
      "\n",
      " [[3 4]\n",
      "  [7 8]]]\n",
      "(2, 2, 2)\n"
     ]
    }
   ],
   "source": [
    "swaped = np.swapaxes(a,0,1)\n",
    "print(swaped)\n",
    "print(swaped.shape)"
   ]
  },
  {
   "cell_type": "code",
   "execution_count": 17,
   "id": "41735171-76a5-4d87-b817-3361a21453c3",
   "metadata": {},
   "outputs": [
    {
     "data": {
      "text/plain": [
       "array([[1, 2, 3],\n",
       "       [4, 5, 6]])"
      ]
     },
     "execution_count": 17,
     "metadata": {},
     "output_type": "execute_result"
    }
   ],
   "source": [
    "# 2D Examples :\n",
    "\n",
    "arr = np.array([[1,2,3],[4,5,6]])\n",
    "arr"
   ]
  },
  {
   "cell_type": "code",
   "execution_count": 21,
   "id": "be82025c-5da9-4110-9bfa-48f69fcb5474",
   "metadata": {},
   "outputs": [
    {
     "data": {
      "text/plain": [
       "array([[1, 2, 3],\n",
       "       [4, 5, 6]])"
      ]
     },
     "execution_count": 21,
     "metadata": {},
     "output_type": "execute_result"
    }
   ],
   "source": [
    "np.swapaxes(arr,1,-1)"
   ]
  },
  {
   "cell_type": "markdown",
   "id": "6a196416-789d-416a-97ad-4a4c7bc7302c",
   "metadata": {},
   "source": [
    "## Array Split :\n",
    "\n",
    "    Multiple smaller array ah split panrathu..\n",
    "        \n",
    "        1. np.split() :\n",
    "        \n",
    "            split array into equal parts\n",
    "            \n",
    "            Syntax :\n",
    "                \n",
    "                np.split(array,no_of_parts,axis)\n",
    "                "
   ]
  },
  {
   "cell_type": "code",
   "execution_count": 34,
   "id": "8dd9ff74-393d-4424-963f-638672c1b25b",
   "metadata": {},
   "outputs": [
    {
     "data": {
      "text/plain": [
       "array([[1, 2],\n",
       "       [3, 4],\n",
       "       [5, 6],\n",
       "       [7, 8]])"
      ]
     },
     "execution_count": 34,
     "metadata": {},
     "output_type": "execute_result"
    }
   ],
   "source": [
    "# 1. Split rows equally :\n",
    "\n",
    "a = np.array([[1,2],\n",
    "             [3,4],\n",
    "             [5,6],\n",
    "             [7,8]])\n",
    "\n",
    "a"
   ]
  },
  {
   "cell_type": "code",
   "execution_count": 39,
   "id": "d0f2bff8-e25b-4b6b-a09f-761270350692",
   "metadata": {},
   "outputs": [
    {
     "name": "stdout",
     "output_type": "stream",
     "text": [
      "[array([[1],\n",
      "       [3],\n",
      "       [5],\n",
      "       [7]]), array([[2],\n",
      "       [4],\n",
      "       [6],\n",
      "       [8]])]\n"
     ]
    }
   ],
   "source": [
    "split_array = np.split(a,2,axis=1)\n",
    "\n",
    "print(split_array)"
   ]
  },
  {
   "cell_type": "code",
   "execution_count": 40,
   "id": "91aea136-7fc5-495a-8e17-5dbffa8daa22",
   "metadata": {},
   "outputs": [
    {
     "name": "stdout",
     "output_type": "stream",
     "text": [
      "[[1]\n",
      " [3]\n",
      " [5]\n",
      " [7]]\n",
      "[[2]\n",
      " [4]\n",
      " [6]\n",
      " [8]]\n"
     ]
    }
   ],
   "source": [
    "for part in split_array:\n",
    "    print(part)"
   ]
  },
  {
   "cell_type": "markdown",
   "id": "9f191d12-5687-450c-bb5b-b63847e407af",
   "metadata": {},
   "source": [
    "## 2. np.Array_split() :\n",
    "\n",
    "    same as split() but is allows unequal split\n",
    "\n",
    "    usefull when elements/rows can't divide equally\n",
    "\n",
    "#### Syntax :\n",
    "\n",
    "    np.array_split(array,no_of_parts,axis)"
   ]
  },
  {
   "cell_type": "code",
   "execution_count": 41,
   "id": "875968ed-a670-4964-be54-144dfec4e63b",
   "metadata": {},
   "outputs": [
    {
     "data": {
      "text/plain": [
       "array([[ 1,  2],\n",
       "       [ 3,  4],\n",
       "       [ 5,  6],\n",
       "       [ 7,  8],\n",
       "       [ 9, 10]])"
      ]
     },
     "execution_count": 41,
     "metadata": {},
     "output_type": "execute_result"
    }
   ],
   "source": [
    "a = np.array([[1,2],\n",
    "             [3,4],\n",
    "             [5,6],\n",
    "             [7,8],\n",
    "             [9,10]])\n",
    "a"
   ]
  },
  {
   "cell_type": "code",
   "execution_count": 49,
   "id": "b2807502-cb2b-4bc2-b8c6-ddfb8e4dfaf4",
   "metadata": {},
   "outputs": [
    {
     "name": "stdout",
     "output_type": "stream",
     "text": [
      "[array([[1, 2],\n",
      "       [3, 4],\n",
      "       [5, 6]]), array([[ 7,  8],\n",
      "       [ 9, 10]])]\n"
     ]
    }
   ],
   "source": [
    "\n",
    "result = np.array_split(a,2,axis=0)\n",
    "\n",
    "print(result)"
   ]
  },
  {
   "cell_type": "markdown",
   "id": "14a464cc-18db-423c-b217-f9f6836c6090",
   "metadata": {},
   "source": [
    "## 3. np.hsplit() : -> Horizontal Split\n",
    "\n",
    "    special case of split() - splits columns only\n",
    "\n",
    "    axis = 1 fixed\n",
    "\n",
    "    only for 2D arrays\n",
    "\n",
    "    Syntax :\n",
    "        np.hsplit(array,no_of_parts)"
   ]
  },
  {
   "cell_type": "code",
   "execution_count": 50,
   "id": "74d751f5-4a06-41d1-94d9-abd5163aa57e",
   "metadata": {},
   "outputs": [
    {
     "data": {
      "text/plain": [
       "array([[1, 2, 3, 4],\n",
       "       [5, 6, 7, 8]])"
      ]
     },
     "execution_count": 50,
     "metadata": {},
     "output_type": "execute_result"
    }
   ],
   "source": [
    "a = np.array([[1,2,3,4],\n",
    "              [5,6,7,8]])\n",
    "\n",
    "a"
   ]
  },
  {
   "cell_type": "code",
   "execution_count": 53,
   "id": "7e6be8a0-f6be-4ee2-8dd5-865200154901",
   "metadata": {},
   "outputs": [
    {
     "data": {
      "text/plain": [
       "[array([[1],\n",
       "        [5]]),\n",
       " array([[2],\n",
       "        [6]]),\n",
       " array([[3],\n",
       "        [7]]),\n",
       " array([[4],\n",
       "        [8]])]"
      ]
     },
     "execution_count": 53,
     "metadata": {},
     "output_type": "execute_result"
    }
   ],
   "source": [
    "result = np.hsplit(a,4)\n",
    "result"
   ]
  },
  {
   "cell_type": "markdown",
   "id": "a1a987a8-4800-4035-85b9-8bcd992bb76b",
   "metadata": {},
   "source": [
    "## np.vsplit(): --> Vertical Split(Rows)\n",
    "\n",
    "    - special case of split() - split rows only\n",
    "    - axis-0 = fixed\n",
    "    only for 2D arrays\n",
    "\n",
    "#### Syntax :\n",
    "\n",
    "    np.vsplit(array,no_of_parts)"
   ]
  },
  {
   "cell_type": "code",
   "execution_count": 54,
   "id": "cf97f4f2-3567-454a-bdb1-35266fb77662",
   "metadata": {},
   "outputs": [
    {
     "data": {
      "text/plain": [
       "array([[1, 2],\n",
       "       [3, 4],\n",
       "       [5, 6],\n",
       "       [7, 8]])"
      ]
     },
     "execution_count": 54,
     "metadata": {},
     "output_type": "execute_result"
    }
   ],
   "source": [
    "a = np.array([[1,2],\n",
    "              [3,4],\n",
    "              [5,6],\n",
    "              [7,8]])\n",
    "\n",
    "a"
   ]
  },
  {
   "cell_type": "code",
   "execution_count": 57,
   "id": "b2e22a70-f8aa-40e2-a36f-b8261cb9fc7b",
   "metadata": {},
   "outputs": [
    {
     "name": "stdout",
     "output_type": "stream",
     "text": [
      "[array([[1, 2]]), array([[3, 4]]), array([[5, 6]]), array([[7, 8]])]\n"
     ]
    }
   ],
   "source": [
    "result = np.vsplit(a,4)\n",
    "print(result)"
   ]
  },
  {
   "cell_type": "markdown",
   "id": "b0bb236d-108f-43c9-9aef-bbf4fd80584c",
   "metadata": {},
   "source": [
    "## np.dsplit() --> DepthSplit(for 3D Arrays)\n",
    "\n",
    "- used only for 3D arrays\n",
    "- splits along depth axis(axis = 2)\n",
    "\n",
    "#### Syntax : \n",
    "\n",
    "    np.dsplit(array,no_of_parts)"
   ]
  },
  {
   "cell_type": "code",
   "execution_count": 65,
   "id": "193780d1-9987-46b0-acf1-4e26129bed59",
   "metadata": {},
   "outputs": [
    {
     "data": {
      "text/plain": [
       "(2, 2, 3)"
      ]
     },
     "execution_count": 65,
     "metadata": {},
     "output_type": "execute_result"
    }
   ],
   "source": [
    "a = np.array([\n",
    "    [[1,2,3],[4,5,6]],\n",
    "    [[7,8,9],[10,11,12]]\n",
    "])\n",
    "\n",
    "np.shape(a)"
   ]
  },
  {
   "cell_type": "code",
   "execution_count": 64,
   "id": "e3569999-0046-4d0d-8ecc-75b514c26f0e",
   "metadata": {},
   "outputs": [
    {
     "data": {
      "text/plain": [
       "[array([[[ 1],\n",
       "         [ 4]],\n",
       " \n",
       "        [[ 7],\n",
       "         [10]]]),\n",
       " array([[[ 2],\n",
       "         [ 5]],\n",
       " \n",
       "        [[ 8],\n",
       "         [11]]]),\n",
       " array([[[ 3],\n",
       "         [ 6]],\n",
       " \n",
       "        [[ 9],\n",
       "         [12]]])]"
      ]
     },
     "execution_count": 64,
     "metadata": {},
     "output_type": "execute_result"
    }
   ],
   "source": [
    "result = np.dsplit(a,3)\n",
    "\n",
    "result"
   ]
  },
  {
   "cell_type": "code",
   "execution_count": 67,
   "id": "4f6456fd-15df-496e-9fb6-a1d6382e00fb",
   "metadata": {},
   "outputs": [
    {
     "data": {
      "text/plain": [
       "(3, 2, 2, 1)"
      ]
     },
     "execution_count": 67,
     "metadata": {},
     "output_type": "execute_result"
    }
   ],
   "source": [
    "np.shape(result)"
   ]
  },
  {
   "cell_type": "markdown",
   "id": "0a7e5e3e-bc6b-4ad2-a43d-79ba33ab5577",
   "metadata": {},
   "source": [
    "## Numpy Search Functions :\n",
    "\n",
    "    to search or locate values inside arrays\n",
    "\n",
    "### np.where() :\n",
    "\n",
    "    Find index of elements matching a condition or replace values based on condition\n",
    "\n",
    "#### Syntax :\n",
    "\n",
    "    np.where(condition)\n",
    "    \n",
    "    **or**\n",
    "    \n",
    "    np.where(condtion,value_if_True,value_if_False)"
   ]
  },
  {
   "cell_type": "code",
   "execution_count": 69,
   "id": "7ddc1b9d-1270-45e6-8b18-fa03bf010434",
   "metadata": {},
   "outputs": [
    {
     "data": {
      "text/plain": [
       "(array([0, 2, 3, 5], dtype=int64),)"
      ]
     },
     "execution_count": 69,
     "metadata": {},
     "output_type": "execute_result"
    }
   ],
   "source": [
    "# Find Where Elements > 10\n",
    "\n",
    "arr = np.array([5,12,7,10,13,3,18])\n",
    "\n",
    "result = np.where(arr <= 10)\n",
    "\n",
    "result"
   ]
  },
  {
   "cell_type": "code",
   "execution_count": 70,
   "id": "abce69a3-3baf-4d15-9a1b-bbb9d184bac1",
   "metadata": {},
   "outputs": [
    {
     "data": {
      "text/plain": [
       "array([  0, 100,   0,   0, 100,   0, 100])"
      ]
     },
     "execution_count": 70,
     "metadata": {},
     "output_type": "execute_result"
    }
   ],
   "source": [
    "# Condition Basaed Replacement :\n",
    "\n",
    "result = np.where(arr > 10 , 100 , 0)\n",
    "\n",
    "result"
   ]
  },
  {
   "cell_type": "code",
   "execution_count": 73,
   "id": "6abb935a-169f-42e8-82a2-ad990bf1f522",
   "metadata": {},
   "outputs": [
    {
     "data": {
      "text/plain": [
       "(2, 2, 2)"
      ]
     },
     "execution_count": 73,
     "metadata": {},
     "output_type": "execute_result"
    }
   ],
   "source": [
    "#  Where in 3D :\n",
    "\n",
    "arr = np.array([\n",
    "    [[1,0],[3,0]],\n",
    "    [[5,0],[0,8]]\n",
    "])\n",
    "\n",
    "np.shape(arr)"
   ]
  },
  {
   "cell_type": "code",
   "execution_count": 74,
   "id": "594186a6-c246-41c9-ab9f-0a759400071e",
   "metadata": {},
   "outputs": [
    {
     "data": {
      "text/plain": [
       "(array([0, 0, 1, 1], dtype=int64),\n",
       " array([0, 1, 0, 1], dtype=int64),\n",
       " array([0, 0, 0, 1], dtype=int64))"
      ]
     },
     "execution_count": 74,
     "metadata": {},
     "output_type": "execute_result"
    }
   ],
   "source": [
    "np.where(arr > 0)\n"
   ]
  },
  {
   "cell_type": "code",
   "execution_count": null,
   "id": "5bf24cf3-dbba-48b6-8453-1b4056665a4f",
   "metadata": {},
   "outputs": [],
   "source": []
  },
  {
   "cell_type": "code",
   "execution_count": null,
   "id": "d1623988-009a-491e-9d91-fce6c683a6bf",
   "metadata": {},
   "outputs": [],
   "source": []
  },
  {
   "cell_type": "code",
   "execution_count": null,
   "id": "7179657b-5f8d-48f4-8450-a538d183baf1",
   "metadata": {},
   "outputs": [],
   "source": []
  },
  {
   "cell_type": "code",
   "execution_count": null,
   "id": "08d2a0e6-6871-4f12-aa0d-9a4874740863",
   "metadata": {},
   "outputs": [],
   "source": []
  },
  {
   "cell_type": "code",
   "execution_count": null,
   "id": "b7e20dd9-2499-46d2-a30b-b53087bdbac9",
   "metadata": {},
   "outputs": [],
   "source": []
  },
  {
   "cell_type": "code",
   "execution_count": null,
   "id": "6b2e0c36-d906-4499-a082-45963774a604",
   "metadata": {},
   "outputs": [],
   "source": []
  },
  {
   "cell_type": "code",
   "execution_count": null,
   "id": "d820c568-1a10-4a8c-8532-63041d5d2124",
   "metadata": {},
   "outputs": [],
   "source": []
  }
 ],
 "metadata": {
  "kernelspec": {
   "display_name": "Python [conda env:base] *",
   "language": "python",
   "name": "conda-base-py"
  },
  "language_info": {
   "codemirror_mode": {
    "name": "ipython",
    "version": 3
   },
   "file_extension": ".py",
   "mimetype": "text/x-python",
   "name": "python",
   "nbconvert_exporter": "python",
   "pygments_lexer": "ipython3",
   "version": "3.12.7"
  }
 },
 "nbformat": 4,
 "nbformat_minor": 5
}
